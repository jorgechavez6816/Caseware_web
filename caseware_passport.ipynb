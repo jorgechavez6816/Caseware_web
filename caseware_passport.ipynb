{
 "cells": [
  {
   "cell_type": "code",
   "execution_count": 7,
   "metadata": {},
   "outputs": [],
   "source": [
    "#Acceso directo a Passport de Caseware en https://support.casewareanalytics.com/\n",
    "#01. Importación de librerias\n",
    "import time\n",
    "import pandas as pd\n",
    "from time import sleep\n",
    "from selenium import webdriver\n",
    "from selenium.webdriver.common.keys import Keys\n",
    "import urllib3\n",
    "\n",
    "#02. Acceso con webdriver\n",
    "driver = webdriver.Firefox(executable_path=\"C:\\\\ProgramData\\\\Anaconda3\\\\geckodriver.exe\")\n",
    "driver.get(\"https://support.casewareanalytics.com/\")\n",
    "\n",
    "#03. Acceso Autenticado (login y password)\n",
    "time.sleep(7)\n",
    "file = open(\"config5.txt\")\n",
    "lines = file.readlines()\n",
    "username = lines[0]\n",
    "password = lines[1]\n",
    "\n",
    "elementID = driver.find_element_by_xpath('.//input[@id = \"username-email\"]')\n",
    "elementID.send_keys(username)\n",
    "elementID = driver.find_element_by_xpath('.//input[@id = \"password\"]')\n",
    "elementID.send_keys(password)\n",
    "\n",
    "driver.find_element_by_xpath('.//button[@class=\"btn btn-block btn-sm btn-warning login-textbox\"]').click()"
   ]
  },
  {
   "cell_type": "code",
   "execution_count": null,
   "metadata": {},
   "outputs": [],
   "source": []
  }
 ],
 "metadata": {
  "kernelspec": {
   "display_name": "Python 3",
   "language": "python",
   "name": "python3"
  },
  "language_info": {
   "codemirror_mode": {
    "name": "ipython",
    "version": 3
   },
   "file_extension": ".py",
   "mimetype": "text/x-python",
   "name": "python",
   "nbconvert_exporter": "python",
   "pygments_lexer": "ipython3",
   "version": "3.7.6"
  }
 },
 "nbformat": 4,
 "nbformat_minor": 4
}
