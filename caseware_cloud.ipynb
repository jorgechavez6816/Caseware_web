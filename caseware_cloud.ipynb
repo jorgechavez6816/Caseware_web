{
 "cells": [
  {
   "cell_type": "code",
   "execution_count": 2,
   "metadata": {},
   "outputs": [],
   "source": [
    "#Acceso directo a Caseware Cloud en https://cr.casewarecloud.com/cwlatam/webapps/\n",
    "#01. Importación de librerias\n",
    "import time\n",
    "import pandas as pd\n",
    "from time import sleep\n",
    "from selenium import webdriver\n",
    "from selenium.webdriver.common.keys import Keys\n",
    "import urllib3\n",
    "#from selenium import webdriver\n",
    "\n",
    "#02. Acceso con webdriver\n",
    "driver = webdriver.Firefox(executable_path=\"C:\\\\ProgramData\\\\Anaconda3\\\\geckodriver.exe\")\n",
    "driver.get(\"https://cr.casewarecloud.com/cwlatam/webapps/\")\n",
    "\n",
    "#03. Acceso Autenticado (login y password)\n",
    "time.sleep(7)\n",
    "file = open(\"config4.txt\")\n",
    "lines = file.readlines()\n",
    "username = lines[0]\n",
    "password = lines[1]\n",
    "\n",
    "elementID = driver.find_element_by_xpath('.//input[@type = \"email\"]')\n",
    "elementID.send_keys(username)\n",
    "elementID = driver.find_element_by_xpath('.//input[@type = \"password\"]')\n",
    "elementID.send_keys(password)\n",
    "\n",
    "#04. Acceso a página de tareas\n",
    "time.sleep(7)\n",
    "driver.find_element_by_xpath('//button[@type = \"submit\"]').click()\n",
    "driver.get(\"https://cr.casewarecloud.com/cwlatam/webapps/#Tasks?entityId=31\")"
   ]
  },
  {
   "cell_type": "code",
   "execution_count": 3,
   "metadata": {},
   "outputs": [],
   "source": [
    "#05. Programar una nueva tarea\n",
    "\n",
    "driver.find_element_by_class_name('GCCYXN1CGSG.GCCYXN1CK5').click()\n",
    "    \n",
    "Tema = \"Procedimiento Activos - Primer Trimestre\"\n",
    "elementID1 = driver.find_element_by_xpath('.//input[@class = \"GCCYXN1CIEB GCCYXN1CMDC\"]')\n",
    "elementID1.send_keys(Tema)\n",
    "                                         \n",
    "Descripcion = \"Por medio del presente realice las operaciones propias del tema indicado. Confirme los resultados. Gracias\"\n",
    "elementID2 = driver.find_element_by_xpath('.//div[@class = \"note-editable\"]')\n",
    "elementID2.send_keys(Descripcion)\n",
    "\n",
    "driver.find_element_by_xpath('.//button[@class=\"GCCYXN1CH4 GCCYXN1CI4 GCCYXN1CC3 GCCYXN1CLDG\"]').click()"
   ]
  },
  {
   "cell_type": "code",
   "execution_count": null,
   "metadata": {},
   "outputs": [],
   "source": []
  }
 ],
 "metadata": {
  "kernelspec": {
   "display_name": "Python 3",
   "language": "python",
   "name": "python3"
  },
  "language_info": {
   "codemirror_mode": {
    "name": "ipython",
    "version": 3
   },
   "file_extension": ".py",
   "mimetype": "text/x-python",
   "name": "python",
   "nbconvert_exporter": "python",
   "pygments_lexer": "ipython3",
   "version": "3.7.6"
  }
 },
 "nbformat": 4,
 "nbformat_minor": 4
}
